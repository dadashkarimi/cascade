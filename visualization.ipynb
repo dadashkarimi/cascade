{
 "cells": [
  {
   "cell_type": "code",
   "execution_count": 1,
   "id": "639c39b2-0575-4cb8-86b9-35de7ab3c980",
   "metadata": {},
   "outputs": [
    {
     "data": {
      "text/html": [
       "\n",
       "      <iframe id=\"tensorboard-frame-7fed4b22780bebfd\" width=\"100%\" height=\"800\" frameborder=\"0\">\n",
       "      </iframe>\n",
       "      <script>\n",
       "        (function() {\n",
       "          const frame = document.getElementById(\"tensorboard-frame-7fed4b22780bebfd\");\n",
       "          const url = new URL(\"/\", window.location);\n",
       "          const port = 6027;\n",
       "          if (port) {\n",
       "            url.port = port;\n",
       "          }\n",
       "          frame.src = url;\n",
       "        })();\n",
       "      </script>\n",
       "    "
      ],
      "text/plain": [
       "<IPython.core.display.HTML object>"
      ]
     },
     "metadata": {},
     "output_type": "display_data"
    }
   ],
   "source": [
    "# !pip install tensorflow tensorboard\n",
    "# import tensorboard as tb\n",
    "# !tb.shutdown()\n",
    "# %load_ext tensorboard\n",
    "\n",
    "%reload_ext tensorboard\n",
    "%tensorboard --logdir=logs --host localhost   --port 6027 # 7"
   ]
  },
  {
   "cell_type": "code",
   "execution_count": null,
   "id": "63b91a8b-2a23-4a8b-8951-cc740d7db2c1",
   "metadata": {},
   "outputs": [],
   "source": []
  }
 ],
 "metadata": {
  "kernelspec": {
   "display_name": "Python 3 (ipykernel)",
   "language": "python",
   "name": "python3"
  },
  "language_info": {
   "codemirror_mode": {
    "name": "ipython",
    "version": 3
   },
   "file_extension": ".py",
   "mimetype": "text/x-python",
   "name": "python",
   "nbconvert_exporter": "python",
   "pygments_lexer": "ipython3",
   "version": "3.8.10"
  }
 },
 "nbformat": 4,
 "nbformat_minor": 5
}
